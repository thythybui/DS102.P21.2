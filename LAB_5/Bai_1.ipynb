{
 "cells": [
  {
   "cell_type": "code",
   "execution_count": 4,
   "id": "38b816d8",
   "metadata": {},
   "outputs": [],
   "source": [
    "import numpy as np\n",
    "\n",
    "class GMM:\n",
    "  def __init__(self, n_components, max_iter=100, comp_names=None):\n",
    "    self.n_components = n_components\n",
    "    self.max_iter = max_iter\n",
    "\n",
    "    if comp_names is None:\n",
    "      self.comp_names = [f\"comp_{i}\" for i in range(n_components)]\n",
    "    else:\n",
    "      self.comp_names = comp_names\n",
    "\n",
    "    self.pi = [1 / self.n_components for _ in range(self.n_components)]\n",
    "\n",
    "  def multivariate_normal(self, X, mean_vector, covariance_matrix):\n",
    "    d = len(mean_vector)\n",
    "    det = np.linalg.det(covariance_matrix)\n",
    "    if det == 0:\n",
    "      det = 1e-6  # tránh chia 0\n",
    "\n",
    "    norm_const = 1.0 / (np.power((2 * np.pi), d / 2) * np.sqrt(det))\n",
    "    diff = X - mean_vector\n",
    "    inv_cov = np.linalg.inv(covariance_matrix)\n",
    "    exponent = -0.5 * np.dot(np.dot(diff.T, inv_cov), diff)\n",
    "\n",
    "    return norm_const * np.exp(exponent)\n",
    "\n",
    "  def fit(self, X):\n",
    "    n_samples, n_features = X.shape\n",
    "\n",
    "    # Khởi tạo ngẫu nhiên mean và covariance\n",
    "    np.random.seed(42)\n",
    "    self.means = [X[np.random.choice(n_samples)] for _ in range(self.n_components)]\n",
    "    self.covs = [np.cov(X.T) for _ in range(self.n_components)]\n",
    "    self.gamma = np.zeros((n_samples, self.n_components))\n",
    "\n",
    "    for iteration in range(self.max_iter):\n",
    "      # E-step: tính xác suất posterior\n",
    "      for i in range(n_samples):\n",
    "        probs = []\n",
    "        for k in range(self.n_components):\n",
    "          prob = self.pi[k] * self.multivariate_normal(X[i], self.means[k], self.covs[k])\n",
    "          probs.append(prob)\n",
    "        probs = np.array(probs)\n",
    "        probs /= np.sum(probs)  # chuẩn hóa\n",
    "        self.gamma[i] = probs\n",
    "\n",
    "      # M-step: cập nhật tham số\n",
    "      for k in range(self.n_components):\n",
    "        N_k = np.sum(self.gamma[:, k])\n",
    "\n",
    "        # Update mean\n",
    "        self.means[k] = np.sum(self.gamma[:, k][:, np.newaxis] * X, axis=0) / N_k\n",
    "\n",
    "        # Update covariance\n",
    "        diff = X - self.means[k]\n",
    "        self.covs[k] = np.dot((self.gamma[:, k][:, np.newaxis] * diff).T, diff) / N_k\n",
    "\n",
    "        # Update pi\n",
    "        self.pi[k] = N_k / n_samples\n",
    "\n",
    "  def predict(self, X):\n",
    "    n_samples = X.shape[0]\n",
    "    y_pred = []\n",
    "\n",
    "    for i in range(n_samples):\n",
    "      probs = []\n",
    "      for k in range(self.n_components):\n",
    "        prob = self.pi[k] * self.multivariate_normal(X[i], self.means[k], self.covs[k])\n",
    "        probs.append(prob)\n",
    "      y_pred.append(np.argmax(probs))\n",
    "\n",
    "    return np.array(y_pred)"
   ]
  },
  {
   "cell_type": "code",
   "execution_count": 10,
   "id": "fd82c25e",
   "metadata": {},
   "outputs": [
    {
     "name": "stdout",
     "output_type": "stream",
     "text": [
      "--- Bài tập 1: Giải với Class GMM của bạn ---\n",
      "Dữ liệu giả lập đã tạo có kích thước: (300, 2)\n",
      "\n",
      "Bắt đầu huấn luyện GMM...\n",
      "Huấn luyện GMM hoàn tất.\n",
      "\n"
     ]
    }
   ],
   "source": [
    "# 1. Tạo dữ liệu giả lập\n",
    "np.random.seed(42) # Đảm bảo kết quả lặp lại\n",
    "\n",
    "# Cụm 1: Trung bình (0,0), hiệp phương sai gần hình cầu\n",
    "mean1 = np.array([0., 0.])\n",
    "cov1 = np.array([[1., 0.5], \n",
    "                 [0.5, 1.]])\n",
    "X1 = np.random.multivariate_normal(mean1, cov1, 100) # 100 điểm\n",
    "\n",
    "# Cụm 2: Trung bình (5,5), hiệp phương sai gần hình cầu\n",
    "mean2 = np.array([5., 5.])\n",
    "cov2 = np.array([[0.8, -0.2], \n",
    "                 [-0.2, 0.8]])\n",
    "X2 = np.random.multivariate_normal(mean2, cov2, 100)\n",
    "\n",
    "# Cụm 3: Trung bình (0,5), hiệp phương sai elip (dài theo trục y)\n",
    "mean3 = np.array([0., 5.])\n",
    "cov3 = np.array([[0.5, 0.], \n",
    "                 [0., 1.2]])\n",
    "X3 = np.random.multivariate_normal(mean3, cov3, 100)\n",
    "\n",
    "# Gom tất cả các điểm lại và trộn ngẫu nhiên\n",
    "X_synthetic = np.vstack((X1, X2, X3))\n",
    "np.random.shuffle(X_synthetic)\n",
    "\n",
    "print(\"--- Bài tập 1: Giải với Class GMM của bạn ---\")\n",
    "print(f\"Dữ liệu giả lập đã tạo có kích thước: {X_synthetic.shape}\\n\")\n",
    "\n",
    "# 2. Khởi tạo và huấn luyện mô hình GMM\n",
    "# Đặt số thành phần GMM là 3, tương ứng với 3 cụm dữ liệu đã tạo\n",
    "gmm_model = GMM(n_components=3, max_iter=200) # Tăng max_iter để GMM có thời gian hội tụ\n",
    "print(\"Bắt đầu huấn luyện GMM...\")\n",
    "gmm_model.fit(X_synthetic)\n",
    "print(\"Huấn luyện GMM hoàn tất.\\n\")"
   ]
  },
  {
   "cell_type": "code",
   "execution_count": 11,
   "id": "d3f4a19f",
   "metadata": {},
   "outputs": [
    {
     "name": "stdout",
     "output_type": "stream",
     "text": [
      "--- Các tham số của GMM sau huấn luyện ---\n",
      "Hệ số hỗn hợp (Weights / pi_k):\n",
      " [0.09170939 0.60187069 0.30641992]\n",
      "\n",
      "Trung bình (Means / mu_k):\n",
      "Cụm 0: [1.15767474 5.38959946]\n",
      "Cụm 1: [-0.01475829  2.25485933]\n",
      "Cụm 2: [5.04215976 5.03451776]\n",
      "\n",
      "Ma trận hiệp phương sai (Covariances / Sigma_k):\n",
      "Cụm 0:\n",
      "[[3.71305862 1.04600491]\n",
      " [1.04600491 0.45271241]]\n",
      "Cụm 1:\n",
      "[[ 0.63922241 -0.08526526]\n",
      " [-0.08526526  6.76255465]]\n",
      "Cụm 2:\n",
      "[[ 0.61843465 -0.26079398]\n",
      " [-0.26079398  0.67618584]]\n"
     ]
    }
   ],
   "source": [
    "# 3. In ra các tham số đã học được của GMM\n",
    "print(\"--- Các tham số của GMM sau huấn luyện ---\")\n",
    "print(\"Hệ số hỗn hợp (Weights / pi_k):\\n\", gmm_model.pi)\n",
    "\n",
    "print(\"\\nTrung bình (Means / mu_k):\")\n",
    "for i, mean in enumerate(gmm_model.means):\n",
    "    print(f\"Cụm {i}: {mean}\")\n",
    "\n",
    "print(\"\\nMa trận hiệp phương sai (Covariances / Sigma_k):\")\n",
    "for i, cov in enumerate(gmm_model.covs):\n",
    "    print(f\"Cụm {i}:\\n{cov}\")"
   ]
  },
  {
   "cell_type": "code",
   "execution_count": 12,
   "id": "02338590",
   "metadata": {},
   "outputs": [
    {
     "name": "stdout",
     "output_type": "stream",
     "text": [
      "\n",
      "--- Dự đoán và Phân tích Cụm ---\n",
      "Ví dụ 20 nhãn dự đoán đầu tiên: [1 1 1 2 1 1 1 1 1 2 1 1 1 1 1 1 1 1 1 2]\n"
     ]
    }
   ],
   "source": [
    "# 4. Dự đoán nhãn cụm cho dữ liệu\n",
    "print(\"\\n--- Dự đoán và Phân tích Cụm ---\")\n",
    "predicted_labels = gmm_model.predict(X_synthetic)\n",
    "print(f\"Ví dụ 20 nhãn dự đoán đầu tiên: {predicted_labels[:20]}\")\n"
   ]
  },
  {
   "cell_type": "code",
   "execution_count": 13,
   "id": "c7d67f76",
   "metadata": {},
   "outputs": [
    {
     "name": "stdout",
     "output_type": "stream",
     "text": [
      "\n",
      "Số lượng điểm trong mỗi cụm:\n",
      "Cụm 0: 15 điểm\n",
      "Cụm 1: 191 điểm\n",
      "Cụm 2: 94 điểm\n"
     ]
    }
   ],
   "source": [
    "# 5. In ra số lượng điểm trong mỗi cụm\n",
    "# np.bincount đếm số lần xuất hiện của mỗi giá trị không âm trong một mảng.\n",
    "unique_labels, counts = np.unique(predicted_labels, return_counts=True)\n",
    "print(\"\\nSố lượng điểm trong mỗi cụm:\")\n",
    "for label, count in zip(unique_labels, counts):\n",
    "    print(f\"Cụm {label}: {count} điểm\")\n"
   ]
  }
 ],
 "metadata": {
  "kernelspec": {
   "display_name": "DS102",
   "language": "python",
   "name": "python3"
  },
  "language_info": {
   "codemirror_mode": {
    "name": "ipython",
    "version": 3
   },
   "file_extension": ".py",
   "mimetype": "text/x-python",
   "name": "python",
   "nbconvert_exporter": "python",
   "pygments_lexer": "ipython3",
   "version": "3.13.3"
  }
 },
 "nbformat": 4,
 "nbformat_minor": 5
}
