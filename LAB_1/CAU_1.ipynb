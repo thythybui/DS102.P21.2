{
 "cells": [
  {
   "cell_type": "markdown",
   "metadata": {},
   "source": [
    "CAU 1:"
   ]
  },
  {
   "cell_type": "markdown",
   "metadata": {},
   "source": [
    "DATA PRE-PROCESSING"
   ]
  },
  {
   "cell_type": "code",
   "execution_count": 22,
   "metadata": {},
   "outputs": [],
   "source": [
    "import pandas as pd\n",
    "import numpy as np\n",
    "import matplotlib.pyplot as plt\n",
    "import seaborn as sns"
   ]
  },
  {
   "cell_type": "code",
   "execution_count": 23,
   "metadata": {},
   "outputs": [
    {
     "data": {
      "text/html": [
       "<div>\n",
       "<style scoped>\n",
       "    .dataframe tbody tr th:only-of-type {\n",
       "        vertical-align: middle;\n",
       "    }\n",
       "\n",
       "    .dataframe tbody tr th {\n",
       "        vertical-align: top;\n",
       "    }\n",
       "\n",
       "    .dataframe thead th {\n",
       "        text-align: right;\n",
       "    }\n",
       "</style>\n",
       "<table border=\"1\" class=\"dataframe\">\n",
       "  <thead>\n",
       "    <tr style=\"text-align: right;\">\n",
       "      <th></th>\n",
       "      <th>X</th>\n",
       "      <th>Y</th>\n",
       "      <th>month</th>\n",
       "      <th>day</th>\n",
       "      <th>FFMC</th>\n",
       "      <th>DMC</th>\n",
       "      <th>DC</th>\n",
       "      <th>ISI</th>\n",
       "      <th>temp</th>\n",
       "      <th>RH</th>\n",
       "      <th>wind</th>\n",
       "      <th>rain</th>\n",
       "      <th>area</th>\n",
       "    </tr>\n",
       "  </thead>\n",
       "  <tbody>\n",
       "    <tr>\n",
       "      <th>0</th>\n",
       "      <td>7</td>\n",
       "      <td>5</td>\n",
       "      <td>mar</td>\n",
       "      <td>fri</td>\n",
       "      <td>86.2</td>\n",
       "      <td>26.2</td>\n",
       "      <td>94.3</td>\n",
       "      <td>5.1</td>\n",
       "      <td>8.2</td>\n",
       "      <td>51</td>\n",
       "      <td>6.7</td>\n",
       "      <td>0.0</td>\n",
       "      <td>0.0</td>\n",
       "    </tr>\n",
       "    <tr>\n",
       "      <th>1</th>\n",
       "      <td>7</td>\n",
       "      <td>4</td>\n",
       "      <td>oct</td>\n",
       "      <td>tue</td>\n",
       "      <td>90.6</td>\n",
       "      <td>35.4</td>\n",
       "      <td>669.1</td>\n",
       "      <td>6.7</td>\n",
       "      <td>18.0</td>\n",
       "      <td>33</td>\n",
       "      <td>0.9</td>\n",
       "      <td>0.0</td>\n",
       "      <td>0.0</td>\n",
       "    </tr>\n",
       "    <tr>\n",
       "      <th>2</th>\n",
       "      <td>7</td>\n",
       "      <td>4</td>\n",
       "      <td>oct</td>\n",
       "      <td>sat</td>\n",
       "      <td>90.6</td>\n",
       "      <td>43.7</td>\n",
       "      <td>686.9</td>\n",
       "      <td>6.7</td>\n",
       "      <td>14.6</td>\n",
       "      <td>33</td>\n",
       "      <td>1.3</td>\n",
       "      <td>0.0</td>\n",
       "      <td>0.0</td>\n",
       "    </tr>\n",
       "    <tr>\n",
       "      <th>3</th>\n",
       "      <td>8</td>\n",
       "      <td>6</td>\n",
       "      <td>mar</td>\n",
       "      <td>fri</td>\n",
       "      <td>91.7</td>\n",
       "      <td>33.3</td>\n",
       "      <td>77.5</td>\n",
       "      <td>9.0</td>\n",
       "      <td>8.3</td>\n",
       "      <td>97</td>\n",
       "      <td>4.0</td>\n",
       "      <td>0.2</td>\n",
       "      <td>0.0</td>\n",
       "    </tr>\n",
       "    <tr>\n",
       "      <th>4</th>\n",
       "      <td>8</td>\n",
       "      <td>6</td>\n",
       "      <td>mar</td>\n",
       "      <td>sun</td>\n",
       "      <td>89.3</td>\n",
       "      <td>51.3</td>\n",
       "      <td>102.2</td>\n",
       "      <td>9.6</td>\n",
       "      <td>11.4</td>\n",
       "      <td>99</td>\n",
       "      <td>1.8</td>\n",
       "      <td>0.0</td>\n",
       "      <td>0.0</td>\n",
       "    </tr>\n",
       "  </tbody>\n",
       "</table>\n",
       "</div>"
      ],
      "text/plain": [
       "   X  Y month  day  FFMC   DMC     DC  ISI  temp  RH  wind  rain  area\n",
       "0  7  5   mar  fri  86.2  26.2   94.3  5.1   8.2  51   6.7   0.0   0.0\n",
       "1  7  4   oct  tue  90.6  35.4  669.1  6.7  18.0  33   0.9   0.0   0.0\n",
       "2  7  4   oct  sat  90.6  43.7  686.9  6.7  14.6  33   1.3   0.0   0.0\n",
       "3  8  6   mar  fri  91.7  33.3   77.5  9.0   8.3  97   4.0   0.2   0.0\n",
       "4  8  6   mar  sun  89.3  51.3  102.2  9.6  11.4  99   1.8   0.0   0.0"
      ]
     },
     "execution_count": 23,
     "metadata": {},
     "output_type": "execute_result"
    }
   ],
   "source": [
    "df = pd.read_csv('D:/LAP TRINH/DS102.P21.2/LAB_1/forestfires.csv')\n",
    "df.head()"
   ]
  },
  {
   "cell_type": "code",
   "execution_count": 24,
   "metadata": {},
   "outputs": [
    {
     "data": {
      "text/plain": [
       "(517, 13)"
      ]
     },
     "execution_count": 24,
     "metadata": {},
     "output_type": "execute_result"
    }
   ],
   "source": [
    "df.shape"
   ]
  },
  {
   "cell_type": "code",
   "execution_count": 25,
   "metadata": {},
   "outputs": [
    {
     "data": {
      "text/plain": [
       "array(['X', 'Y', 'month', 'day', 'FFMC', 'DMC', 'DC', 'ISI', 'temp', 'RH',\n",
       "       'wind', 'rain', 'area'], dtype=object)"
      ]
     },
     "execution_count": 25,
     "metadata": {},
     "output_type": "execute_result"
    }
   ],
   "source": [
    "df.columns.values"
   ]
  },
  {
   "cell_type": "code",
   "execution_count": 26,
   "metadata": {},
   "outputs": [
    {
     "name": "stdout",
     "output_type": "stream",
     "text": [
      "Total NaN:  0 in column X\n",
      "Total null:  0 in column X\n",
      "Data type: int64 in column X\n",
      "__________\n",
      "Total NaN:  0 in column Y\n",
      "Total null:  0 in column Y\n",
      "Data type: int64 in column Y\n",
      "__________\n",
      "Total NaN:  0 in column month\n",
      "Total null:  0 in column month\n",
      "Data type: object in column month\n",
      "__________\n",
      "Total NaN:  0 in column day\n",
      "Total null:  0 in column day\n",
      "Data type: object in column day\n",
      "__________\n",
      "Total NaN:  0 in column FFMC\n",
      "Total null:  0 in column FFMC\n",
      "Data type: float64 in column FFMC\n",
      "__________\n",
      "Total NaN:  0 in column DMC\n",
      "Total null:  0 in column DMC\n",
      "Data type: float64 in column DMC\n",
      "__________\n",
      "Total NaN:  0 in column DC\n",
      "Total null:  0 in column DC\n",
      "Data type: float64 in column DC\n",
      "__________\n",
      "Total NaN:  0 in column ISI\n",
      "Total null:  0 in column ISI\n",
      "Data type: float64 in column ISI\n",
      "__________\n",
      "Total NaN:  0 in column temp\n",
      "Total null:  0 in column temp\n",
      "Data type: float64 in column temp\n",
      "__________\n",
      "Total NaN:  0 in column RH\n",
      "Total null:  0 in column RH\n",
      "Data type: int64 in column RH\n",
      "__________\n",
      "Total NaN:  0 in column wind\n",
      "Total null:  0 in column wind\n",
      "Data type: float64 in column wind\n",
      "__________\n",
      "Total NaN:  0 in column rain\n",
      "Total null:  0 in column rain\n",
      "Data type: float64 in column rain\n",
      "__________\n",
      "Total NaN:  0 in column area\n",
      "Total null:  0 in column area\n",
      "Data type: float64 in column area\n",
      "__________\n"
     ]
    }
   ],
   "source": [
    "for col_name in df.columns:\n",
    "    print('Total NaN: ', df[col_name].isna().sum(), 'in column', col_name)\n",
    "    print('Total null: ', df[col_name].isnull().sum(), 'in column', col_name)\n",
    "    print('Data type:', df[col_name].dtype, 'in column', col_name)\n",
    "    print(\"_\"*10)"
   ]
  },
  {
   "cell_type": "code",
   "execution_count": 27,
   "metadata": {},
   "outputs": [],
   "source": [
    "def convert_day(day: str)->int:\n",
    "    day_dict = {\n",
    "        'mon': 2,\n",
    "        'tue': 3,\n",
    "        'wed': 4, \n",
    "        'thu': 5,\n",
    "        'fri': 6,       \n",
    "        'sat': 7,\n",
    "        'sun': 8          \n",
    "    }\n",
    "    return day_dict[day]"
   ]
  },
  {
   "cell_type": "code",
   "execution_count": 28,
   "metadata": {},
   "outputs": [],
   "source": [
    "def convert_month(month: str)->int:\n",
    "    month_dict = {\n",
    "        'jan': 1,\n",
    "        'feb': 2,\n",
    "        'mar': 3,\n",
    "        'apr': 4,\n",
    "        'may': 5,\n",
    "        'jun': 6,\n",
    "        'jul': 7,\n",
    "        'aug': 8,\n",
    "        'sep': 9,\n",
    "        'oct': 10,\n",
    "        'nov': 11,\n",
    "        'dec': 12\n",
    "    }\n",
    "    return month_dict[month]    "
   ]
  },
  {
   "cell_type": "code",
   "execution_count": 29,
   "metadata": {},
   "outputs": [],
   "source": [
    "df['month'] = df['month'].apply(convert_month)"
   ]
  },
  {
   "cell_type": "code",
   "execution_count": 30,
   "metadata": {},
   "outputs": [],
   "source": [
    "df['day'] = df['day'].apply(convert_day)"
   ]
  },
  {
   "cell_type": "markdown",
   "metadata": {},
   "source": [
    "MODEL\n"
   ]
  },
  {
   "cell_type": "code",
   "execution_count": 31,
   "metadata": {},
   "outputs": [],
   "source": [
    "class LinearRegression:\n",
    "    # RMSE : Root Mean Square Error\n",
    "    def rmse (self, Y: np.array, Y_pred: np.array)->float:\n",
    "        return ((Y - Y_pred)**2).mean()**0.5\n",
    "    \n",
    "    def fit(self, X: np.array, y: np.array)->None:\n",
    "        self.thelta = np.linalg.inv(X.T @ X) @ (X.T @ y)\n",
    "    \n",
    "    def predict(self, X: np.array)->np.array:\n",
    "        y = self.thelta.T @ X.T\n",
    "        return y  "
   ]
  },
  {
   "cell_type": "code",
   "execution_count": 32,
   "metadata": {},
   "outputs": [
    {
     "data": {
      "text/plain": [
       "array([[ 7.  ,  5.  ,  3.  , ...,  6.7 ,  0.  ,  0.  ],\n",
       "       [ 7.  ,  4.  , 10.  , ...,  0.9 ,  0.  ,  0.  ],\n",
       "       [ 7.  ,  4.  , 10.  , ...,  1.3 ,  0.  ,  0.  ],\n",
       "       ...,\n",
       "       [ 7.  ,  4.  ,  8.  , ...,  6.7 ,  0.  , 11.16],\n",
       "       [ 1.  ,  4.  ,  8.  , ...,  4.  ,  0.  ,  0.  ],\n",
       "       [ 6.  ,  3.  , 11.  , ...,  4.5 ,  0.  ,  0.  ]], shape=(517, 13))"
      ]
     },
     "execution_count": 32,
     "metadata": {},
     "output_type": "execute_result"
    }
   ],
   "source": [
    "X_Y = df.to_numpy()\n",
    "X_Y"
   ]
  },
  {
   "cell_type": "code",
   "execution_count": 33,
   "metadata": {},
   "outputs": [],
   "source": [
    "row = df.shape[0]\n",
    "X_Y_train, X_Y_test = np.split(X_Y, indices_or_sections=[int(0.8*row)])"
   ]
  },
  {
   "cell_type": "code",
   "execution_count": 34,
   "metadata": {},
   "outputs": [
    {
     "data": {
      "text/plain": [
       "array([[ 7.  ,  5.  ,  3.  , ...,  6.7 ,  0.  ,  0.  ],\n",
       "       [ 7.  ,  4.  , 10.  , ...,  0.9 ,  0.  ,  0.  ],\n",
       "       [ 7.  ,  4.  , 10.  , ...,  1.3 ,  0.  ,  0.  ],\n",
       "       ...,\n",
       "       [ 6.  ,  3.  ,  2.  , ...,  2.7 ,  0.  ,  0.  ],\n",
       "       [ 7.  ,  4.  ,  2.  , ...,  9.4 ,  0.  ,  4.62],\n",
       "       [ 9.  ,  4.  ,  7.  , ...,  4.5 ,  0.  ,  1.63]], shape=(413, 13))"
      ]
     },
     "execution_count": 34,
     "metadata": {},
     "output_type": "execute_result"
    }
   ],
   "source": [
    "X_Y_train"
   ]
  },
  {
   "cell_type": "code",
   "execution_count": 35,
   "metadata": {},
   "outputs": [],
   "source": [
    "lr = LinearRegression()"
   ]
  },
  {
   "cell_type": "code",
   "execution_count": 36,
   "metadata": {},
   "outputs": [],
   "source": [
    "X_train = X_Y_train[:,:12]\n",
    "Y_train = X_Y_train[:,12:]\n",
    "\n",
    "X_test = X_Y_test[:, :12]\n",
    "Y_test = X_Y_test[:, 12:]"
   ]
  },
  {
   "cell_type": "code",
   "execution_count": 37,
   "metadata": {},
   "outputs": [],
   "source": [
    "lr.fit(X_train, Y_train)"
   ]
  },
  {
   "cell_type": "code",
   "execution_count": 38,
   "metadata": {},
   "outputs": [],
   "source": [
    "Y_pred = lr.predict(X_test)"
   ]
  },
  {
   "cell_type": "code",
   "execution_count": 39,
   "metadata": {},
   "outputs": [
    {
     "data": {
      "text/plain": [
       "array([[ 33.59102041,  27.34017299,  26.83638958,  17.47930084,\n",
       "          3.67125484,  26.20233237,  26.60012038,  25.31952987,\n",
       "         18.32030495,  40.2768549 ,   9.92501608,  34.88131479,\n",
       "         21.1837366 ,  25.91157362,  18.63857625,  18.35312283,\n",
       "         26.07707169,  32.70005628,  21.13849988,  22.95029306,\n",
       "         18.98276194,  25.9939789 ,  14.97722563,  23.47441706,\n",
       "         20.60634589,  22.12265066,   8.58769564,  27.59268934,\n",
       "         24.61690574,  -1.60966828,  -6.48524113,  23.80417863,\n",
       "         11.80119756,  21.25312297,  -3.44310848,  16.92877287,\n",
       "         24.56622202,  10.17651632,  -1.88491102,  15.59290822,\n",
       "         23.08041842,  20.2597266 ,  -0.4029118 ,  18.32875732,\n",
       "         14.02228967,  24.05787507,  23.70541129,  17.90544586,\n",
       "         24.05787507,  21.17389256, -11.13503844,  -9.23476326,\n",
       "         -1.30597277,  -3.86984769,  -1.8907285 ,   5.9642239 ,\n",
       "         10.1992655 ,  11.31715994,  12.81743683,   6.70255799,\n",
       "         17.89651389,  15.27383857,   4.27024407,  16.89077299,\n",
       "         14.33211574,   5.35522735,  10.13287184,  20.60200923,\n",
       "         18.69487223,  15.57838504,  25.74980818,  20.73622159,\n",
       "          2.60965807,   5.62633664,   8.61071143,  -4.03515463,\n",
       "          1.44826256,  10.26422585,  20.46609943,  20.59399439,\n",
       "         18.61631063,  23.22586613,   7.26353699,  12.22524145,\n",
       "         15.72292984,  19.11763111, -65.63368581,  -1.93878887,\n",
       "         -2.56847368,  -2.03520854,   4.56160559,   7.41087934,\n",
       "         14.66603806,   7.25322458,  17.79169461,  17.63687387,\n",
       "         -4.31028681,  14.06590244,  24.56435788,  22.33667865,\n",
       "          7.92964677,  13.49883083,  15.32282449,  28.94603908]])"
      ]
     },
     "execution_count": 39,
     "metadata": {},
     "output_type": "execute_result"
    }
   ],
   "source": [
    "Y_pred"
   ]
  },
  {
   "cell_type": "code",
   "execution_count": 40,
   "metadata": {},
   "outputs": [
    {
     "data": {
      "text/plain": [
       "np.float64(81.04405295404759)"
      ]
     },
     "execution_count": 40,
     "metadata": {},
     "output_type": "execute_result"
    }
   ],
   "source": [
    "lr.rmse(Y_test, Y_pred)"
   ]
  },
  {
   "cell_type": "code",
   "execution_count": 41,
   "metadata": {},
   "outputs": [],
   "source": [
    "import matplotlib.pyplot as plt"
   ]
  },
  {
   "cell_type": "code",
   "execution_count": 42,
   "metadata": {},
   "outputs": [
    {
     "data": {
      "text/plain": [
       "[<matplotlib.lines.Line2D at 0x168618981d0>,\n",
       " <matplotlib.lines.Line2D at 0x1686170efc0>,\n",
       " <matplotlib.lines.Line2D at 0x16861898200>,\n",
       " <matplotlib.lines.Line2D at 0x16861898410>,\n",
       " <matplotlib.lines.Line2D at 0x16861898530>,\n",
       " <matplotlib.lines.Line2D at 0x168616c9940>,\n",
       " <matplotlib.lines.Line2D at 0x16861898650>,\n",
       " <matplotlib.lines.Line2D at 0x16861898860>,\n",
       " <matplotlib.lines.Line2D at 0x16861898980>,\n",
       " <matplotlib.lines.Line2D at 0x16861898aa0>,\n",
       " <matplotlib.lines.Line2D at 0x16861898bc0>,\n",
       " <matplotlib.lines.Line2D at 0x168616b4920>]"
      ]
     },
     "execution_count": 42,
     "metadata": {},
     "output_type": "execute_result"
    },
    {
     "data": {
      "image/png": "[encoded data removed]",
      "text/plain": [
       "<Figure size 640x480 with 1 Axes>"
      ]
     },
     "metadata": {},
     "output_type": "display_data"
    }
   ],
   "source": [
    "plt.plot(X_test, Y_pred.T)"
   ]
  }
 ],
 "metadata": {
  "kernelspec": {
   "display_name": "newenv",
   "language": "python",
   "name": "python3"
  },
  "language_info": {
   "codemirror_mode": {
    "name": "ipython",
    "version": 3
   },
   "file_extension": ".py",
   "mimetype": "text/x-python",
   "name": "python",
   "nbconvert_exporter": "python",
   "pygments_lexer": "ipython3",
   "version": "3.12.3"
  }
 },
 "nbformat": 4,
 "nbformat_minor": 2
}
