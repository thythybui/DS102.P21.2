{
 "cells": [
  {
   "cell_type": "markdown",
   "metadata": {},
   "source": [
    "CAU 2\n"
   ]
  },
  {
   "cell_type": "markdown",
   "metadata": {},
   "source": [
    "DATA PRE-PROCESSING"
   ]
  },
  {
   "cell_type": "code",
   "execution_count": 1,
   "metadata": {},
   "outputs": [],
   "source": [
    "import numpy as np\n",
    "import pandas as pd"
   ]
  },
  {
   "cell_type": "code",
   "execution_count": 2,
   "metadata": {},
   "outputs": [
    {
     "data": {
      "text/html": [
       "<div>\n",
       "<style scoped>\n",
       "    .dataframe tbody tr th:only-of-type {\n",
       "        vertical-align: middle;\n",
       "    }\n",
       "\n",
       "    .dataframe tbody tr th {\n",
       "        vertical-align: top;\n",
       "    }\n",
       "\n",
       "    .dataframe thead th {\n",
       "        text-align: right;\n",
       "    }\n",
       "</style>\n",
       "<table border=\"1\" class=\"dataframe\">\n",
       "  <thead>\n",
       "    <tr style=\"text-align: right;\">\n",
       "      <th></th>\n",
       "      <th>X</th>\n",
       "      <th>Y</th>\n",
       "      <th>month</th>\n",
       "      <th>day</th>\n",
       "      <th>FFMC</th>\n",
       "      <th>DMC</th>\n",
       "      <th>DC</th>\n",
       "      <th>ISI</th>\n",
       "      <th>temp</th>\n",
       "      <th>RH</th>\n",
       "      <th>wind</th>\n",
       "      <th>rain</th>\n",
       "      <th>area</th>\n",
       "    </tr>\n",
       "  </thead>\n",
       "  <tbody>\n",
       "    <tr>\n",
       "      <th>0</th>\n",
       "      <td>7</td>\n",
       "      <td>5</td>\n",
       "      <td>mar</td>\n",
       "      <td>fri</td>\n",
       "      <td>86.2</td>\n",
       "      <td>26.2</td>\n",
       "      <td>94.3</td>\n",
       "      <td>5.1</td>\n",
       "      <td>8.2</td>\n",
       "      <td>51</td>\n",
       "      <td>6.7</td>\n",
       "      <td>0.0</td>\n",
       "      <td>0.0</td>\n",
       "    </tr>\n",
       "    <tr>\n",
       "      <th>1</th>\n",
       "      <td>7</td>\n",
       "      <td>4</td>\n",
       "      <td>oct</td>\n",
       "      <td>tue</td>\n",
       "      <td>90.6</td>\n",
       "      <td>35.4</td>\n",
       "      <td>669.1</td>\n",
       "      <td>6.7</td>\n",
       "      <td>18.0</td>\n",
       "      <td>33</td>\n",
       "      <td>0.9</td>\n",
       "      <td>0.0</td>\n",
       "      <td>0.0</td>\n",
       "    </tr>\n",
       "    <tr>\n",
       "      <th>2</th>\n",
       "      <td>7</td>\n",
       "      <td>4</td>\n",
       "      <td>oct</td>\n",
       "      <td>sat</td>\n",
       "      <td>90.6</td>\n",
       "      <td>43.7</td>\n",
       "      <td>686.9</td>\n",
       "      <td>6.7</td>\n",
       "      <td>14.6</td>\n",
       "      <td>33</td>\n",
       "      <td>1.3</td>\n",
       "      <td>0.0</td>\n",
       "      <td>0.0</td>\n",
       "    </tr>\n",
       "    <tr>\n",
       "      <th>3</th>\n",
       "      <td>8</td>\n",
       "      <td>6</td>\n",
       "      <td>mar</td>\n",
       "      <td>fri</td>\n",
       "      <td>91.7</td>\n",
       "      <td>33.3</td>\n",
       "      <td>77.5</td>\n",
       "      <td>9.0</td>\n",
       "      <td>8.3</td>\n",
       "      <td>97</td>\n",
       "      <td>4.0</td>\n",
       "      <td>0.2</td>\n",
       "      <td>0.0</td>\n",
       "    </tr>\n",
       "    <tr>\n",
       "      <th>4</th>\n",
       "      <td>8</td>\n",
       "      <td>6</td>\n",
       "      <td>mar</td>\n",
       "      <td>sun</td>\n",
       "      <td>89.3</td>\n",
       "      <td>51.3</td>\n",
       "      <td>102.2</td>\n",
       "      <td>9.6</td>\n",
       "      <td>11.4</td>\n",
       "      <td>99</td>\n",
       "      <td>1.8</td>\n",
       "      <td>0.0</td>\n",
       "      <td>0.0</td>\n",
       "    </tr>\n",
       "  </tbody>\n",
       "</table>\n",
       "</div>"
      ],
      "text/plain": [
       "   X  Y month  day  FFMC   DMC     DC  ISI  temp  RH  wind  rain  area\n",
       "0  7  5   mar  fri  86.2  26.2   94.3  5.1   8.2  51   6.7   0.0   0.0\n",
       "1  7  4   oct  tue  90.6  35.4  669.1  6.7  18.0  33   0.9   0.0   0.0\n",
       "2  7  4   oct  sat  90.6  43.7  686.9  6.7  14.6  33   1.3   0.0   0.0\n",
       "3  8  6   mar  fri  91.7  33.3   77.5  9.0   8.3  97   4.0   0.2   0.0\n",
       "4  8  6   mar  sun  89.3  51.3  102.2  9.6  11.4  99   1.8   0.0   0.0"
      ]
     },
     "execution_count": 2,
     "metadata": {},
     "output_type": "execute_result"
    }
   ],
   "source": [
    "df = pd.read_csv('D:/LAP TRINH/DS102.P21.2/LAB_1/forestfires.csv')\n",
    "df.head()"
   ]
  },
  {
   "cell_type": "code",
   "execution_count": 3,
   "metadata": {},
   "outputs": [
    {
     "data": {
      "text/plain": [
       "(517, 13)"
      ]
     },
     "execution_count": 3,
     "metadata": {},
     "output_type": "execute_result"
    }
   ],
   "source": [
    "df.shape"
   ]
  },
  {
   "cell_type": "code",
   "execution_count": 4,
   "metadata": {},
   "outputs": [
    {
     "data": {
      "text/plain": [
       "array(['X', 'Y', 'month', 'day', 'FFMC', 'DMC', 'DC', 'ISI', 'temp', 'RH',\n",
       "       'wind', 'rain', 'area'], dtype=object)"
      ]
     },
     "execution_count": 4,
     "metadata": {},
     "output_type": "execute_result"
    }
   ],
   "source": [
    "df.columns.values"
   ]
  },
  {
   "cell_type": "code",
   "execution_count": 5,
   "metadata": {},
   "outputs": [
    {
     "name": "stdout",
     "output_type": "stream",
     "text": [
      "Total NaN:  0 in column X\n",
      "Total null:  0 in column X\n",
      "Data type: int64 in column X\n",
      "__________\n",
      "Total NaN:  0 in column Y\n",
      "Total null:  0 in column Y\n",
      "Data type: int64 in column Y\n",
      "__________\n",
      "Total NaN:  0 in column month\n",
      "Total null:  0 in column month\n",
      "Data type: object in column month\n",
      "__________\n",
      "Total NaN:  0 in column day\n",
      "Total null:  0 in column day\n",
      "Data type: object in column day\n",
      "__________\n",
      "Total NaN:  0 in column FFMC\n",
      "Total null:  0 in column FFMC\n",
      "Data type: float64 in column FFMC\n",
      "__________\n",
      "Total NaN:  0 in column DMC\n",
      "Total null:  0 in column DMC\n",
      "Data type: float64 in column DMC\n",
      "__________\n",
      "Total NaN:  0 in column DC\n",
      "Total null:  0 in column DC\n",
      "Data type: float64 in column DC\n",
      "__________\n",
      "Total NaN:  0 in column ISI\n",
      "Total null:  0 in column ISI\n",
      "Data type: float64 in column ISI\n",
      "__________\n",
      "Total NaN:  0 in column temp\n",
      "Total null:  0 in column temp\n",
      "Data type: float64 in column temp\n",
      "__________\n",
      "Total NaN:  0 in column RH\n",
      "Total null:  0 in column RH\n",
      "Data type: int64 in column RH\n",
      "__________\n",
      "Total NaN:  0 in column wind\n",
      "Total null:  0 in column wind\n",
      "Data type: float64 in column wind\n",
      "__________\n",
      "Total NaN:  0 in column rain\n",
      "Total null:  0 in column rain\n",
      "Data type: float64 in column rain\n",
      "__________\n",
      "Total NaN:  0 in column area\n",
      "Total null:  0 in column area\n",
      "Data type: float64 in column area\n",
      "__________\n"
     ]
    }
   ],
   "source": [
    "for col_name in df.columns:\n",
    "    print('Total NaN: ', df[col_name].isna().sum(), 'in column', col_name)\n",
    "    print('Total null: ', df[col_name].isnull().sum(), 'in column', col_name)\n",
    "    print('Data type:', df[col_name].dtype, 'in column', col_name)\n",
    "    print(\"_\"*10)"
   ]
  },
  {
   "cell_type": "code",
   "execution_count": 6,
   "metadata": {},
   "outputs": [],
   "source": [
    "def convert_day(day: str)->int:\n",
    "    day_dict = {\n",
    "        'mon': 2,\n",
    "        'tue': 3,\n",
    "        'wed': 4, \n",
    "        'thu': 5,\n",
    "        'fri': 6,       \n",
    "        'sat': 7,\n",
    "        'sun': 8          \n",
    "    }\n",
    "    return day_dict[day]"
   ]
  },
  {
   "cell_type": "code",
   "execution_count": 7,
   "metadata": {},
   "outputs": [],
   "source": [
    "def convert_month(month: str)->int:\n",
    "    month_dict = {\n",
    "        'jan': 1,\n",
    "        'feb': 2,\n",
    "        'mar': 3,\n",
    "        'apr': 4,\n",
    "        'may': 5,\n",
    "        'jun': 6,\n",
    "        'jul': 7,\n",
    "        'aug': 8,\n",
    "        'sep': 9,\n",
    "        'oct': 10,\n",
    "        'nov': 11,\n",
    "        'dec': 12\n",
    "    }\n",
    "    return month_dict[month]    "
   ]
  },
  {
   "cell_type": "code",
   "execution_count": 8,
   "metadata": {},
   "outputs": [],
   "source": [
    "df['month'] = df['month'].apply(convert_month)"
   ]
  },
  {
   "cell_type": "code",
   "execution_count": 9,
   "metadata": {},
   "outputs": [],
   "source": [
    "df['day'] = df['day'].apply(convert_day)"
   ]
  },
  {
   "cell_type": "markdown",
   "metadata": {},
   "source": [
    "Normalize continous - E(X)=0 and Var(X)=1"
   ]
  },
  {
   "cell_type": "code",
   "execution_count": 10,
   "metadata": {},
   "outputs": [],
   "source": [
    "for column in df.columns:\n",
    "    if df[column].dtype == 'float64' and column != 'area':\n",
    "        mean = df[column].mean()\n",
    "        std = df[column].std()\n",
    "        df[column] = (df[column] - mean) / std"
   ]
  },
  {
   "cell_type": "markdown",
   "metadata": {},
   "source": [
    "MODEL"
   ]
  },
  {
   "cell_type": "code",
   "execution_count": 11,
   "metadata": {},
   "outputs": [],
   "source": [
    "class LinearRegression:\n",
    "    # RMSE : Root Mean Square Error\n",
    "    def rmse (self, Y: np.array, Y_pred: np.array)->float:\n",
    "        return ((Y - Y_pred)**2).mean()**0.5\n",
    "    \n",
    "    def fit(self, X: np.array, y: np.array)->None:\n",
    "        self.thelta = np.linalg.inv(X.T @ X) @ (X.T @ y)\n",
    "    \n",
    "    def predict(self, X: np.array)->np.array:\n",
    "        y = self.thelta.T @ X.T\n",
    "        return y  "
   ]
  },
  {
   "cell_type": "code",
   "execution_count": 12,
   "metadata": {},
   "outputs": [
    {
     "data": {
      "text/plain": [
       "array([[ 7.00000000e+00,  5.00000000e+00,  3.00000000e+00, ...,\n",
       "         1.49716438e+00, -7.31974162e-02,  0.00000000e+00],\n",
       "       [ 7.00000000e+00,  4.00000000e+00,  1.00000000e+01, ...,\n",
       "        -1.74007034e+00, -7.31974162e-02,  0.00000000e+00],\n",
       "       [ 7.00000000e+00,  4.00000000e+00,  1.00000000e+01, ...,\n",
       "        -1.51681277e+00, -7.31974162e-02,  0.00000000e+00],\n",
       "       ...,\n",
       "       [ 7.00000000e+00,  4.00000000e+00,  8.00000000e+00, ...,\n",
       "         1.49716438e+00, -7.31974162e-02,  1.11600000e+01],\n",
       "       [ 1.00000000e+00,  4.00000000e+00,  8.00000000e+00, ...,\n",
       "        -9.82419660e-03, -7.31974162e-02,  0.00000000e+00],\n",
       "       [ 6.00000000e+00,  3.00000000e+00,  1.10000000e+01, ...,\n",
       "         2.69247762e-01, -7.31974162e-02,  0.00000000e+00]],\n",
       "      shape=(517, 13))"
      ]
     },
     "execution_count": 12,
     "metadata": {},
     "output_type": "execute_result"
    }
   ],
   "source": [
    "X_Y = df.to_numpy()\n",
    "X_Y"
   ]
  },
  {
   "cell_type": "code",
   "execution_count": 13,
   "metadata": {},
   "outputs": [],
   "source": [
    "row = df.shape[0]\n",
    "X_Y_train, X_Y_test = np.split(X_Y, indices_or_sections=[int(0.8*row)])"
   ]
  },
  {
   "cell_type": "code",
   "execution_count": 14,
   "metadata": {},
   "outputs": [],
   "source": [
    "lr = LinearRegression()"
   ]
  },
  {
   "cell_type": "code",
   "execution_count": 15,
   "metadata": {},
   "outputs": [],
   "source": [
    "X_train = X_Y_train[:,:12]\n",
    "Y_train = X_Y_train[:,12:]\n",
    "\n",
    "X_test = X_Y_test[:, :12]\n",
    "Y_test = X_Y_test[:, 12:]"
   ]
  },
  {
   "cell_type": "code",
   "execution_count": 16,
   "metadata": {},
   "outputs": [],
   "source": [
    "lr.fit(X_train, Y_train)"
   ]
  },
  {
   "cell_type": "code",
   "execution_count": 17,
   "metadata": {},
   "outputs": [],
   "source": [
    "Y_pred = lr.predict(X_test)"
   ]
  },
  {
   "cell_type": "code",
   "execution_count": 18,
   "metadata": {},
   "outputs": [
    {
     "data": {
      "text/plain": [
       "array([[ 33.69374331,  27.22540219,  27.22851799,  17.95781577,\n",
       "          5.29045576,  26.13122516,  25.93176698,  24.80686609,\n",
       "         19.0696319 ,  41.4371032 ,  10.21601619,  34.859941  ,\n",
       "         21.85195875,  25.90945302,  18.94199297,  19.430732  ,\n",
       "         25.20418306,  33.18550059,  20.78460725,  23.65104594,\n",
       "         18.96017257,  27.26131675,  12.69968915,  23.16696613,\n",
       "         20.25757092,  22.15653964,   9.04489429,  27.9984751 ,\n",
       "         24.72416169,  -2.55843392,  -7.60214619,  24.26947945,\n",
       "          5.67393888,  19.93540951,  -1.07435372,  17.28498705,\n",
       "         23.60085437,  10.61326717,  -2.47739939,  16.3105936 ,\n",
       "         24.14011551,  21.20325808,   0.5955757 ,  19.16978362,\n",
       "         14.28071538,  23.94769842,  25.1663665 ,  18.18995564,\n",
       "         23.94769842,  21.6083746 , -10.78295762,  -8.83678729,\n",
       "         -0.86550332,  -2.70779927,  -0.50866803,   6.97531005,\n",
       "         10.38778686,  10.63371797,  11.20607994,   4.63469284,\n",
       "         15.29853809,  14.20720122,   4.64691483,  15.65487552,\n",
       "         12.78961456,   3.19294893,   9.2167389 ,  20.55865449,\n",
       "         19.62735091,  15.39728265,  24.76059577,  19.7516147 ,\n",
       "          2.5263876 ,   6.05094651,   8.62161565,  -3.8001916 ,\n",
       "          0.7075084 ,  10.06498341,  20.57475825,  20.33620547,\n",
       "         19.18129123,  22.83854035,   7.45466138,  12.46737025,\n",
       "         15.92906154,  19.10848544, -53.85079569,  -0.39773451,\n",
       "         -0.88506705,  -0.91040643,   5.46124703,   8.36344052,\n",
       "         15.59338858,   8.93853688,  18.7013337 ,  18.78075067,\n",
       "         -0.71259264,  15.05285222,  23.47394023,  21.82322281,\n",
       "          7.26317462,  12.84410575,  15.03087098,  21.79435305]])"
      ]
     },
     "execution_count": 18,
     "metadata": {},
     "output_type": "execute_result"
    }
   ],
   "source": [
    "Y_pred"
   ]
  },
  {
   "cell_type": "code",
   "execution_count": 19,
   "metadata": {},
   "outputs": [
    {
     "data": {
      "text/plain": [
       "np.float64(80.91163282403298)"
      ]
     },
     "execution_count": 19,
     "metadata": {},
     "output_type": "execute_result"
    }
   ],
   "source": [
    "lr.rmse(Y_test, Y_pred)"
   ]
  },
  {
   "cell_type": "code",
   "execution_count": 20,
   "metadata": {},
   "outputs": [],
   "source": [
    "import matplotlib.pyplot as plt"
   ]
  },
  {
   "cell_type": "code",
   "execution_count": 21,
   "metadata": {},
   "outputs": [
    {
     "data": {
      "text/plain": [
       "[<matplotlib.lines.Line2D at 0x26abc65f140>,\n",
       " <matplotlib.lines.Line2D at 0x26ab9d4ff20>,\n",
       " <matplotlib.lines.Line2D at 0x26abc65f170>,\n",
       " <matplotlib.lines.Line2D at 0x26abc65f380>,\n",
       " <matplotlib.lines.Line2D at 0x26abc65f4a0>,\n",
       " <matplotlib.lines.Line2D at 0x26abc65f5c0>,\n",
       " <matplotlib.lines.Line2D at 0x26abc65f6e0>,\n",
       " <matplotlib.lines.Line2D at 0x26abc65f800>,\n",
       " <matplotlib.lines.Line2D at 0x26abc65f920>,\n",
       " <matplotlib.lines.Line2D at 0x26abc65fa40>,\n",
       " <matplotlib.lines.Line2D at 0x26abc65fb60>,\n",
       " <matplotlib.lines.Line2D at 0x26abc65e240>]"
      ]
     },
     "execution_count": 21,
     "metadata": {},
     "output_type": "execute_result"
    },
    {
     "data": {
      "image/png": "[encoded data removed]",
      "text/plain": [
       "<Figure size 640x480 with 1 Axes>"
      ]
     },
     "metadata": {},
     "output_type": "display_data"
    }
   ],
   "source": [
    "plt.plot(X_test, Y_pred.T)"
   ]
  }
 ],
 "metadata": {
  "kernelspec": {
   "display_name": "newenv",
   "language": "python",
   "name": "python3"
  },
  "language_info": {
   "codemirror_mode": {
    "name": "ipython",
    "version": 3
   },
   "file_extension": ".py",
   "mimetype": "text/x-python",
   "name": "python",
   "nbconvert_exporter": "python",
   "pygments_lexer": "ipython3",
   "version": "3.12.4"
  }
 },
 "nbformat": 4,
 "nbformat_minor": 2
}
