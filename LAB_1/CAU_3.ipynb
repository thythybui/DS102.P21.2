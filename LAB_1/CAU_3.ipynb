{
 "cells": [
  {
   "cell_type": "markdown",
   "metadata": {},
   "source": [
    "CAU 3"
   ]
  },
  {
   "cell_type": "markdown",
   "metadata": {},
   "source": [
    "DATA PRE-PROCESSING"
   ]
  },
  {
   "cell_type": "code",
   "execution_count": 25,
   "metadata": {},
   "outputs": [],
   "source": [
    "import pandas as pd\n",
    "import numpy as np"
   ]
  },
  {
   "cell_type": "code",
   "execution_count": 26,
   "metadata": {},
   "outputs": [
    {
     "data": {
      "text/html": [
       "<div>\n",
       "<style scoped>\n",
       "    .dataframe tbody tr th:only-of-type {\n",
       "        vertical-align: middle;\n",
       "    }\n",
       "\n",
       "    .dataframe tbody tr th {\n",
       "        vertical-align: top;\n",
       "    }\n",
       "\n",
       "    .dataframe thead th {\n",
       "        text-align: right;\n",
       "    }\n",
       "</style>\n",
       "<table border=\"1\" class=\"dataframe\">\n",
       "  <thead>\n",
       "    <tr style=\"text-align: right;\">\n",
       "      <th></th>\n",
       "      <th>X</th>\n",
       "      <th>Y</th>\n",
       "      <th>month</th>\n",
       "      <th>day</th>\n",
       "      <th>FFMC</th>\n",
       "      <th>DMC</th>\n",
       "      <th>DC</th>\n",
       "      <th>ISI</th>\n",
       "      <th>temp</th>\n",
       "      <th>RH</th>\n",
       "      <th>wind</th>\n",
       "      <th>rain</th>\n",
       "      <th>area</th>\n",
       "    </tr>\n",
       "  </thead>\n",
       "  <tbody>\n",
       "    <tr>\n",
       "      <th>0</th>\n",
       "      <td>7</td>\n",
       "      <td>5</td>\n",
       "      <td>mar</td>\n",
       "      <td>fri</td>\n",
       "      <td>86.2</td>\n",
       "      <td>26.2</td>\n",
       "      <td>94.3</td>\n",
       "      <td>5.1</td>\n",
       "      <td>8.2</td>\n",
       "      <td>51</td>\n",
       "      <td>6.7</td>\n",
       "      <td>0.0</td>\n",
       "      <td>0.0</td>\n",
       "    </tr>\n",
       "    <tr>\n",
       "      <th>1</th>\n",
       "      <td>7</td>\n",
       "      <td>4</td>\n",
       "      <td>oct</td>\n",
       "      <td>tue</td>\n",
       "      <td>90.6</td>\n",
       "      <td>35.4</td>\n",
       "      <td>669.1</td>\n",
       "      <td>6.7</td>\n",
       "      <td>18.0</td>\n",
       "      <td>33</td>\n",
       "      <td>0.9</td>\n",
       "      <td>0.0</td>\n",
       "      <td>0.0</td>\n",
       "    </tr>\n",
       "    <tr>\n",
       "      <th>2</th>\n",
       "      <td>7</td>\n",
       "      <td>4</td>\n",
       "      <td>oct</td>\n",
       "      <td>sat</td>\n",
       "      <td>90.6</td>\n",
       "      <td>43.7</td>\n",
       "      <td>686.9</td>\n",
       "      <td>6.7</td>\n",
       "      <td>14.6</td>\n",
       "      <td>33</td>\n",
       "      <td>1.3</td>\n",
       "      <td>0.0</td>\n",
       "      <td>0.0</td>\n",
       "    </tr>\n",
       "    <tr>\n",
       "      <th>3</th>\n",
       "      <td>8</td>\n",
       "      <td>6</td>\n",
       "      <td>mar</td>\n",
       "      <td>fri</td>\n",
       "      <td>91.7</td>\n",
       "      <td>33.3</td>\n",
       "      <td>77.5</td>\n",
       "      <td>9.0</td>\n",
       "      <td>8.3</td>\n",
       "      <td>97</td>\n",
       "      <td>4.0</td>\n",
       "      <td>0.2</td>\n",
       "      <td>0.0</td>\n",
       "    </tr>\n",
       "    <tr>\n",
       "      <th>4</th>\n",
       "      <td>8</td>\n",
       "      <td>6</td>\n",
       "      <td>mar</td>\n",
       "      <td>sun</td>\n",
       "      <td>89.3</td>\n",
       "      <td>51.3</td>\n",
       "      <td>102.2</td>\n",
       "      <td>9.6</td>\n",
       "      <td>11.4</td>\n",
       "      <td>99</td>\n",
       "      <td>1.8</td>\n",
       "      <td>0.0</td>\n",
       "      <td>0.0</td>\n",
       "    </tr>\n",
       "  </tbody>\n",
       "</table>\n",
       "</div>"
      ],
      "text/plain": [
       "   X  Y month  day  FFMC   DMC     DC  ISI  temp  RH  wind  rain  area\n",
       "0  7  5   mar  fri  86.2  26.2   94.3  5.1   8.2  51   6.7   0.0   0.0\n",
       "1  7  4   oct  tue  90.6  35.4  669.1  6.7  18.0  33   0.9   0.0   0.0\n",
       "2  7  4   oct  sat  90.6  43.7  686.9  6.7  14.6  33   1.3   0.0   0.0\n",
       "3  8  6   mar  fri  91.7  33.3   77.5  9.0   8.3  97   4.0   0.2   0.0\n",
       "4  8  6   mar  sun  89.3  51.3  102.2  9.6  11.4  99   1.8   0.0   0.0"
      ]
     },
     "execution_count": 26,
     "metadata": {},
     "output_type": "execute_result"
    }
   ],
   "source": [
    "df = pd.read_csv('D:/LAP TRINH/DS102.P21.2/LAB_1/forestfires.csv')\n",
    "df.head()"
   ]
  },
  {
   "cell_type": "code",
   "execution_count": 27,
   "metadata": {},
   "outputs": [
    {
     "data": {
      "text/plain": [
       "(517, 13)"
      ]
     },
     "execution_count": 27,
     "metadata": {},
     "output_type": "execute_result"
    }
   ],
   "source": [
    "df.shape"
   ]
  },
  {
   "cell_type": "code",
   "execution_count": 28,
   "metadata": {},
   "outputs": [
    {
     "data": {
      "text/plain": [
       "array(['X', 'Y', 'month', 'day', 'FFMC', 'DMC', 'DC', 'ISI', 'temp', 'RH',\n",
       "       'wind', 'rain', 'area'], dtype=object)"
      ]
     },
     "execution_count": 28,
     "metadata": {},
     "output_type": "execute_result"
    }
   ],
   "source": [
    "df.columns.values"
   ]
  },
  {
   "cell_type": "code",
   "execution_count": 29,
   "metadata": {},
   "outputs": [
    {
     "name": "stdout",
     "output_type": "stream",
     "text": [
      "Total NaN:  0 in column X\n",
      "Total null:  0 in column X\n",
      "Data type: int64 in column X\n",
      "__________\n",
      "Total NaN:  0 in column Y\n",
      "Total null:  0 in column Y\n",
      "Data type: int64 in column Y\n",
      "__________\n",
      "Total NaN:  0 in column month\n",
      "Total null:  0 in column month\n",
      "Data type: object in column month\n",
      "__________\n",
      "Total NaN:  0 in column day\n",
      "Total null:  0 in column day\n",
      "Data type: object in column day\n",
      "__________\n",
      "Total NaN:  0 in column FFMC\n",
      "Total null:  0 in column FFMC\n",
      "Data type: float64 in column FFMC\n",
      "__________\n",
      "Total NaN:  0 in column DMC\n",
      "Total null:  0 in column DMC\n",
      "Data type: float64 in column DMC\n",
      "__________\n",
      "Total NaN:  0 in column DC\n",
      "Total null:  0 in column DC\n",
      "Data type: float64 in column DC\n",
      "__________\n",
      "Total NaN:  0 in column ISI\n",
      "Total null:  0 in column ISI\n",
      "Data type: float64 in column ISI\n",
      "__________\n",
      "Total NaN:  0 in column temp\n",
      "Total null:  0 in column temp\n",
      "Data type: float64 in column temp\n",
      "__________\n",
      "Total NaN:  0 in column RH\n",
      "Total null:  0 in column RH\n",
      "Data type: int64 in column RH\n",
      "__________\n",
      "Total NaN:  0 in column wind\n",
      "Total null:  0 in column wind\n",
      "Data type: float64 in column wind\n",
      "__________\n",
      "Total NaN:  0 in column rain\n",
      "Total null:  0 in column rain\n",
      "Data type: float64 in column rain\n",
      "__________\n",
      "Total NaN:  0 in column area\n",
      "Total null:  0 in column area\n",
      "Data type: float64 in column area\n",
      "__________\n"
     ]
    }
   ],
   "source": [
    "for col_name in df.columns:\n",
    "    print('Total NaN: ', df[col_name].isna().sum(), 'in column', col_name)\n",
    "    print('Total null: ', df[col_name].isnull().sum(), 'in column', col_name)\n",
    "    print('Data type:', df[col_name].dtype, 'in column', col_name)\n",
    "    print(\"_\"*10)"
   ]
  },
  {
   "cell_type": "code",
   "execution_count": 30,
   "metadata": {},
   "outputs": [],
   "source": [
    "def convert_day(day: str)->int:\n",
    "    day_dict = {\n",
    "        'mon': 2,\n",
    "        'tue': 3,\n",
    "        'wed': 4, \n",
    "        'thu': 5,\n",
    "        'fri': 6,       \n",
    "        'sat': 7,\n",
    "        'sun': 8          \n",
    "    }\n",
    "    return day_dict[day]"
   ]
  },
  {
   "cell_type": "code",
   "execution_count": 31,
   "metadata": {},
   "outputs": [],
   "source": [
    "def convert_month(month: str)->int:\n",
    "    month_dict = {\n",
    "        'jan': 1,\n",
    "        'feb': 2,\n",
    "        'mar': 3,\n",
    "        'apr': 4,\n",
    "        'may': 5,\n",
    "        'jun': 6,\n",
    "        'jul': 7,\n",
    "        'aug': 8,\n",
    "        'sep': 9,\n",
    "        'oct': 10,\n",
    "        'nov': 11,\n",
    "        'dec': 12\n",
    "    }\n",
    "    return month_dict[month]   "
   ]
  },
  {
   "cell_type": "code",
   "execution_count": 32,
   "metadata": {},
   "outputs": [],
   "source": [
    "df['month'] = df['month'].apply(convert_month)"
   ]
  },
  {
   "cell_type": "code",
   "execution_count": 33,
   "metadata": {},
   "outputs": [],
   "source": [
    "df['day'] = df['day'].apply(convert_day)"
   ]
  },
  {
   "cell_type": "markdown",
   "metadata": {},
   "source": [
    "FEATURE ENGINEERING"
   ]
  },
  {
   "cell_type": "code",
   "execution_count": 34,
   "metadata": {},
   "outputs": [],
   "source": [
    "data_cor = df.copy()"
   ]
  },
  {
   "cell_type": "code",
   "execution_count": 35,
   "metadata": {},
   "outputs": [],
   "source": [
    "for col in df.columns:\n",
    "    if data_cor[col].dtype == 'int64' or col == 'area':\n",
    "        data_cor = data_cor.drop(columns=[f'{col}'])"
   ]
  },
  {
   "cell_type": "code",
   "execution_count": 36,
   "metadata": {},
   "outputs": [
    {
     "data": {
      "text/html": [
       "<div>\n",
       "<style scoped>\n",
       "    .dataframe tbody tr th:only-of-type {\n",
       "        vertical-align: middle;\n",
       "    }\n",
       "\n",
       "    .dataframe tbody tr th {\n",
       "        vertical-align: top;\n",
       "    }\n",
       "\n",
       "    .dataframe thead th {\n",
       "        text-align: right;\n",
       "    }\n",
       "</style>\n",
       "<table border=\"1\" class=\"dataframe\">\n",
       "  <thead>\n",
       "    <tr style=\"text-align: right;\">\n",
       "      <th></th>\n",
       "      <th>FFMC</th>\n",
       "      <th>DMC</th>\n",
       "      <th>DC</th>\n",
       "      <th>ISI</th>\n",
       "      <th>temp</th>\n",
       "      <th>wind</th>\n",
       "      <th>rain</th>\n",
       "    </tr>\n",
       "  </thead>\n",
       "  <tbody>\n",
       "    <tr>\n",
       "      <th>0</th>\n",
       "      <td>86.2</td>\n",
       "      <td>26.2</td>\n",
       "      <td>94.3</td>\n",
       "      <td>5.1</td>\n",
       "      <td>8.2</td>\n",
       "      <td>6.7</td>\n",
       "      <td>0.0</td>\n",
       "    </tr>\n",
       "    <tr>\n",
       "      <th>1</th>\n",
       "      <td>90.6</td>\n",
       "      <td>35.4</td>\n",
       "      <td>669.1</td>\n",
       "      <td>6.7</td>\n",
       "      <td>18.0</td>\n",
       "      <td>0.9</td>\n",
       "      <td>0.0</td>\n",
       "    </tr>\n",
       "    <tr>\n",
       "      <th>2</th>\n",
       "      <td>90.6</td>\n",
       "      <td>43.7</td>\n",
       "      <td>686.9</td>\n",
       "      <td>6.7</td>\n",
       "      <td>14.6</td>\n",
       "      <td>1.3</td>\n",
       "      <td>0.0</td>\n",
       "    </tr>\n",
       "    <tr>\n",
       "      <th>3</th>\n",
       "      <td>91.7</td>\n",
       "      <td>33.3</td>\n",
       "      <td>77.5</td>\n",
       "      <td>9.0</td>\n",
       "      <td>8.3</td>\n",
       "      <td>4.0</td>\n",
       "      <td>0.2</td>\n",
       "    </tr>\n",
       "    <tr>\n",
       "      <th>4</th>\n",
       "      <td>89.3</td>\n",
       "      <td>51.3</td>\n",
       "      <td>102.2</td>\n",
       "      <td>9.6</td>\n",
       "      <td>11.4</td>\n",
       "      <td>1.8</td>\n",
       "      <td>0.0</td>\n",
       "    </tr>\n",
       "    <tr>\n",
       "      <th>...</th>\n",
       "      <td>...</td>\n",
       "      <td>...</td>\n",
       "      <td>...</td>\n",
       "      <td>...</td>\n",
       "      <td>...</td>\n",
       "      <td>...</td>\n",
       "      <td>...</td>\n",
       "    </tr>\n",
       "    <tr>\n",
       "      <th>512</th>\n",
       "      <td>81.6</td>\n",
       "      <td>56.7</td>\n",
       "      <td>665.6</td>\n",
       "      <td>1.9</td>\n",
       "      <td>27.8</td>\n",
       "      <td>2.7</td>\n",
       "      <td>0.0</td>\n",
       "    </tr>\n",
       "    <tr>\n",
       "      <th>513</th>\n",
       "      <td>81.6</td>\n",
       "      <td>56.7</td>\n",
       "      <td>665.6</td>\n",
       "      <td>1.9</td>\n",
       "      <td>21.9</td>\n",
       "      <td>5.8</td>\n",
       "      <td>0.0</td>\n",
       "    </tr>\n",
       "    <tr>\n",
       "      <th>514</th>\n",
       "      <td>81.6</td>\n",
       "      <td>56.7</td>\n",
       "      <td>665.6</td>\n",
       "      <td>1.9</td>\n",
       "      <td>21.2</td>\n",
       "      <td>6.7</td>\n",
       "      <td>0.0</td>\n",
       "    </tr>\n",
       "    <tr>\n",
       "      <th>515</th>\n",
       "      <td>94.4</td>\n",
       "      <td>146.0</td>\n",
       "      <td>614.7</td>\n",
       "      <td>11.3</td>\n",
       "      <td>25.6</td>\n",
       "      <td>4.0</td>\n",
       "      <td>0.0</td>\n",
       "    </tr>\n",
       "    <tr>\n",
       "      <th>516</th>\n",
       "      <td>79.5</td>\n",
       "      <td>3.0</td>\n",
       "      <td>106.7</td>\n",
       "      <td>1.1</td>\n",
       "      <td>11.8</td>\n",
       "      <td>4.5</td>\n",
       "      <td>0.0</td>\n",
       "    </tr>\n",
       "  </tbody>\n",
       "</table>\n",
       "<p>517 rows × 7 columns</p>\n",
       "</div>"
      ],
      "text/plain": [
       "     FFMC    DMC     DC   ISI  temp  wind  rain\n",
       "0    86.2   26.2   94.3   5.1   8.2   6.7   0.0\n",
       "1    90.6   35.4  669.1   6.7  18.0   0.9   0.0\n",
       "2    90.6   43.7  686.9   6.7  14.6   1.3   0.0\n",
       "3    91.7   33.3   77.5   9.0   8.3   4.0   0.2\n",
       "4    89.3   51.3  102.2   9.6  11.4   1.8   0.0\n",
       "..    ...    ...    ...   ...   ...   ...   ...\n",
       "512  81.6   56.7  665.6   1.9  27.8   2.7   0.0\n",
       "513  81.6   56.7  665.6   1.9  21.9   5.8   0.0\n",
       "514  81.6   56.7  665.6   1.9  21.2   6.7   0.0\n",
       "515  94.4  146.0  614.7  11.3  25.6   4.0   0.0\n",
       "516  79.5    3.0  106.7   1.1  11.8   4.5   0.0\n",
       "\n",
       "[517 rows x 7 columns]"
      ]
     },
     "execution_count": 36,
     "metadata": {},
     "output_type": "execute_result"
    }
   ],
   "source": [
    "data_cor"
   ]
  },
  {
   "cell_type": "markdown",
   "metadata": {},
   "source": [
    "Correlation coefficient"
   ]
  },
  {
   "cell_type": "code",
   "execution_count": 37,
   "metadata": {},
   "outputs": [
    {
     "data": {
      "text/html": [
       "<div>\n",
       "<style scoped>\n",
       "    .dataframe tbody tr th:only-of-type {\n",
       "        vertical-align: middle;\n",
       "    }\n",
       "\n",
       "    .dataframe tbody tr th {\n",
       "        vertical-align: top;\n",
       "    }\n",
       "\n",
       "    .dataframe thead th {\n",
       "        text-align: right;\n",
       "    }\n",
       "</style>\n",
       "<table border=\"1\" class=\"dataframe\">\n",
       "  <thead>\n",
       "    <tr style=\"text-align: right;\">\n",
       "      <th></th>\n",
       "      <th>FFMC</th>\n",
       "      <th>DMC</th>\n",
       "      <th>DC</th>\n",
       "      <th>ISI</th>\n",
       "      <th>temp</th>\n",
       "      <th>wind</th>\n",
       "      <th>rain</th>\n",
       "    </tr>\n",
       "  </thead>\n",
       "  <tbody>\n",
       "    <tr>\n",
       "      <th>FFMC</th>\n",
       "      <td>1.000000</td>\n",
       "      <td>0.382619</td>\n",
       "      <td>0.330512</td>\n",
       "      <td>0.531805</td>\n",
       "      <td>0.431532</td>\n",
       "      <td>-0.028485</td>\n",
       "      <td>0.056702</td>\n",
       "    </tr>\n",
       "    <tr>\n",
       "      <th>DMC</th>\n",
       "      <td>0.382619</td>\n",
       "      <td>1.000000</td>\n",
       "      <td>0.682192</td>\n",
       "      <td>0.305128</td>\n",
       "      <td>0.469594</td>\n",
       "      <td>-0.105342</td>\n",
       "      <td>0.074790</td>\n",
       "    </tr>\n",
       "    <tr>\n",
       "      <th>DC</th>\n",
       "      <td>0.330512</td>\n",
       "      <td>0.682192</td>\n",
       "      <td>1.000000</td>\n",
       "      <td>0.229154</td>\n",
       "      <td>0.496208</td>\n",
       "      <td>-0.203466</td>\n",
       "      <td>0.035861</td>\n",
       "    </tr>\n",
       "    <tr>\n",
       "      <th>ISI</th>\n",
       "      <td>0.531805</td>\n",
       "      <td>0.305128</td>\n",
       "      <td>0.229154</td>\n",
       "      <td>1.000000</td>\n",
       "      <td>0.394287</td>\n",
       "      <td>0.106826</td>\n",
       "      <td>0.067668</td>\n",
       "    </tr>\n",
       "    <tr>\n",
       "      <th>temp</th>\n",
       "      <td>0.431532</td>\n",
       "      <td>0.469594</td>\n",
       "      <td>0.496208</td>\n",
       "      <td>0.394287</td>\n",
       "      <td>1.000000</td>\n",
       "      <td>-0.227116</td>\n",
       "      <td>0.069491</td>\n",
       "    </tr>\n",
       "    <tr>\n",
       "      <th>wind</th>\n",
       "      <td>-0.028485</td>\n",
       "      <td>-0.105342</td>\n",
       "      <td>-0.203466</td>\n",
       "      <td>0.106826</td>\n",
       "      <td>-0.227116</td>\n",
       "      <td>1.000000</td>\n",
       "      <td>0.061119</td>\n",
       "    </tr>\n",
       "    <tr>\n",
       "      <th>rain</th>\n",
       "      <td>0.056702</td>\n",
       "      <td>0.074790</td>\n",
       "      <td>0.035861</td>\n",
       "      <td>0.067668</td>\n",
       "      <td>0.069491</td>\n",
       "      <td>0.061119</td>\n",
       "      <td>1.000000</td>\n",
       "    </tr>\n",
       "  </tbody>\n",
       "</table>\n",
       "</div>"
      ],
      "text/plain": [
       "          FFMC       DMC        DC       ISI      temp      wind      rain\n",
       "FFMC  1.000000  0.382619  0.330512  0.531805  0.431532 -0.028485  0.056702\n",
       "DMC   0.382619  1.000000  0.682192  0.305128  0.469594 -0.105342  0.074790\n",
       "DC    0.330512  0.682192  1.000000  0.229154  0.496208 -0.203466  0.035861\n",
       "ISI   0.531805  0.305128  0.229154  1.000000  0.394287  0.106826  0.067668\n",
       "temp  0.431532  0.469594  0.496208  0.394287  1.000000 -0.227116  0.069491\n",
       "wind -0.028485 -0.105342 -0.203466  0.106826 -0.227116  1.000000  0.061119\n",
       "rain  0.056702  0.074790  0.035861  0.067668  0.069491  0.061119  1.000000"
      ]
     },
     "execution_count": 37,
     "metadata": {},
     "output_type": "execute_result"
    }
   ],
   "source": [
    "corr_matrix = data_cor.corr()\n",
    "corr_matrix"
   ]
  },
  {
   "cell_type": "code",
   "execution_count": 38,
   "metadata": {},
   "outputs": [
    {
     "data": {
      "image/png": "[encoded data removed]",
      "text/plain": [
       "<Figure size 640x480 with 2 Axes>"
      ]
     },
     "metadata": {},
     "output_type": "display_data"
    }
   ],
   "source": [
    "import seaborn as sns\n",
    "import matplotlib.pyplot as plt\n",
    "\n",
    "sns.heatmap(corr_matrix, annot=True, cmap='coolwarm')\n",
    "plt.show()"
   ]
  },
  {
   "cell_type": "markdown",
   "metadata": {},
   "source": [
    "DCM và DC có cor là 0.68 (cao nhất trong cor_mat) nên chúng ta chọn bỏ 1 trong 2. Ở đây ta sẽ bỏ feature DC"
   ]
  },
  {
   "cell_type": "code",
   "execution_count": 39,
   "metadata": {},
   "outputs": [],
   "source": [
    "X_Y = df.drop(columns =['DC']).to_numpy()"
   ]
  },
  {
   "cell_type": "markdown",
   "metadata": {},
   "source": [
    "MODEL"
   ]
  },
  {
   "cell_type": "code",
   "execution_count": 40,
   "metadata": {},
   "outputs": [],
   "source": [
    "class LinearRegression:\n",
    "    def rmse(self, Y: np.ndarray , Y_pred: np.ndarray ) -> float:\n",
    "        #calculate root-mean-square error\n",
    "        delta = Y - Y_pred\n",
    "\n",
    "        return (delta**2).mean()**0.5\n",
    "    \n",
    "    def fit(self, X: np.ndarray, y: np.ndarray) -> None:\n",
    "        # optimize weights \n",
    "        inv_cov = np.linalg.inv(X.T @ X)\n",
    "        self.thelta = inv_cov @ (X.T @ y)\n",
    "\n",
    "    def predict(self, X: np.ndarray) -> np.ndarray:\n",
    "        # predict the area (output)\n",
    "        y = self.thelta.T @ X.T\n",
    "\n",
    "        return y"
   ]
  },
  {
   "cell_type": "code",
   "execution_count": 41,
   "metadata": {},
   "outputs": [],
   "source": [
    "row = df.shape[0]\n",
    "X_Y_train, X_Y_test = np.split(X_Y, indices_or_sections=[int(0.8*row)])"
   ]
  },
  {
   "cell_type": "code",
   "execution_count": 42,
   "metadata": {},
   "outputs": [],
   "source": [
    "X_train = X_Y_train[:,:11]\n",
    "Y_train = X_Y_train[:,11:]\n",
    "\n",
    "X_test = X_Y_test[:, :11]\n",
    "Y_test = X_Y_test[:, 11:]"
   ]
  },
  {
   "cell_type": "code",
   "execution_count": 43,
   "metadata": {},
   "outputs": [],
   "source": [
    "lr = LinearRegression()"
   ]
  },
  {
   "cell_type": "code",
   "execution_count": 44,
   "metadata": {},
   "outputs": [],
   "source": [
    "lr.fit(X_train, Y_train)"
   ]
  },
  {
   "cell_type": "code",
   "execution_count": 45,
   "metadata": {},
   "outputs": [],
   "source": [
    "Y_predicted = lr.predict(X_test)"
   ]
  },
  {
   "cell_type": "code",
   "execution_count": 46,
   "metadata": {},
   "outputs": [
    {
     "data": {
      "text/plain": [
       "array([[ 3.24734040e+01,  2.59154909e+01,  2.64333651e+01,\n",
       "         1.50458945e+01,  3.88598733e+00,  2.49369999e+01,\n",
       "         2.48584791e+01,  2.48226999e+01,  1.66698652e+01,\n",
       "         4.21453262e+01,  1.11828062e+01,  3.41912006e+01,\n",
       "         1.89869224e+01,  2.53881312e+01,  1.58767666e+01,\n",
       "         1.71734645e+01,  2.35050858e+01,  3.16658199e+01,\n",
       "         1.84520133e+01,  2.34840934e+01,  1.81042786e+01,\n",
       "         2.63067276e+01,  1.05770459e+01,  2.11701668e+01,\n",
       "         2.09964716e+01,  2.12772522e+01,  9.76890023e+00,\n",
       "         2.69617674e+01,  2.29587733e+01, -5.36238188e+00,\n",
       "        -9.58499363e+00,  2.38792610e+01,  5.75311127e-01,\n",
       "         1.91824163e+01, -2.22171741e+00,  1.64559563e+01,\n",
       "         2.24573045e+01,  9.56004888e+00, -2.81191654e+00,\n",
       "         1.45236473e+01,  2.39274059e+01,  2.00388750e+01,\n",
       "        -1.07403389e+00,  1.79568299e+01,  1.24294698e+01,\n",
       "         2.41652173e+01,  2.56850079e+01,  1.78821065e+01,\n",
       "         2.41652173e+01,  2.16287786e+01, -1.00752063e+01,\n",
       "        -8.92770750e+00, -2.28503158e+00, -3.81952238e+00,\n",
       "        -2.12063810e+00,  5.60189606e+00,  8.48578684e+00,\n",
       "         8.35706602e+00,  7.13450762e+00, -5.92668535e-02,\n",
       "         1.22449815e+01,  9.95558311e+00,  3.40699788e+00,\n",
       "         1.18506206e+01,  1.02247811e+01,  1.91500076e+00,\n",
       "         6.64561720e+00,  2.24337269e+01,  1.80139896e+01,\n",
       "         1.49592576e+01,  2.47171313e+01,  1.87398448e+01,\n",
       "         1.83192428e-01,  4.81195857e+00,  6.71031204e+00,\n",
       "        -4.43625635e+00, -9.48681614e-01,  8.20316966e+00,\n",
       "         1.85687826e+01,  1.74506060e+01,  1.71647446e+01,\n",
       "         2.25738721e+01,  6.50505247e+00,  1.03259127e+01,\n",
       "         1.31919017e+01,  1.69349189e+01, -6.51528812e+01,\n",
       "        -1.85840642e+00, -2.93839655e+00, -2.83431470e+00,\n",
       "         5.13063336e+00,  7.43135445e+00,  1.40931315e+01,\n",
       "         9.43515751e+00,  1.89203897e+01,  1.78010336e+01,\n",
       "        -1.63725919e+00,  1.68092156e+01,  2.63774902e+01,\n",
       "         2.29716994e+01,  1.00350539e+01,  1.57790755e+01,\n",
       "         1.39071058e+01,  1.43258457e+01]])"
      ]
     },
     "execution_count": 46,
     "metadata": {},
     "output_type": "execute_result"
    }
   ],
   "source": [
    "Y_predicted"
   ]
  },
  {
   "cell_type": "code",
   "execution_count": 47,
   "metadata": {},
   "outputs": [
    {
     "data": {
      "text/plain": [
       "np.float64(81.12662476899709)"
      ]
     },
     "execution_count": 47,
     "metadata": {},
     "output_type": "execute_result"
    }
   ],
   "source": [
    "lr.rmse(Y_test, Y_predicted)"
   ]
  },
  {
   "cell_type": "code",
   "execution_count": 48,
   "metadata": {},
   "outputs": [
    {
     "data": {
      "text/plain": [
       "[<matplotlib.lines.Line2D at 0x18747987890>,\n",
       " <matplotlib.lines.Line2D at 0x187479878c0>,\n",
       " <matplotlib.lines.Line2D at 0x187479879b0>,\n",
       " <matplotlib.lines.Line2D at 0x187479762a0>,\n",
       " <matplotlib.lines.Line2D at 0x18747987ad0>,\n",
       " <matplotlib.lines.Line2D at 0x187479768d0>,\n",
       " <matplotlib.lines.Line2D at 0x18747987cb0>,\n",
       " <matplotlib.lines.Line2D at 0x1874615de20>,\n",
       " <matplotlib.lines.Line2D at 0x18747987ec0>,\n",
       " <matplotlib.lines.Line2D at 0x18747975fd0>,\n",
       " <matplotlib.lines.Line2D at 0x187479b01d0>]"
      ]
     },
     "execution_count": 48,
     "metadata": {},
     "output_type": "execute_result"
    },
    {
     "data": {
      "image/png": "[encoded data removed]",
      "text/plain": [
       "<Figure size 640x480 with 1 Axes>"
      ]
     },
     "metadata": {},
     "output_type": "display_data"
    }
   ],
   "source": [
    "plt.plot(X_test, Y_predicted.T)"
   ]
  }
 ],
 "metadata": {
  "kernelspec": {
   "display_name": "newenv",
   "language": "python",
   "name": "python3"
  },
  "language_info": {
   "codemirror_mode": {
    "name": "ipython",
    "version": 3
   },
   "file_extension": ".py",
   "mimetype": "text/x-python",
   "name": "python",
   "nbconvert_exporter": "python",
   "pygments_lexer": "ipython3",
   "version": "3.12.3"
  }
 },
 "nbformat": 4,
 "nbformat_minor": 2
}
